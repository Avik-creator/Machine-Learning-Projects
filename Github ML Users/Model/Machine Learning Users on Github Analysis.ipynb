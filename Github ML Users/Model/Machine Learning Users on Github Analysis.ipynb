{
 "cells": [
  {
   "cell_type": "markdown",
   "id": "f3d05dda",
   "metadata": {},
   "source": [
    "# Machine Learning users on Github Analysis\n",
    "\n",
    "\n",
    "## Objective:\n",
    "\n",
    " * Analyze the data of the ML users in GitHub.\n",
    "\n",
    "\n",
    "## Steps:\n",
    " * 1. Importing Necessary Libraries\n",
    " * 2. Basic Data Exploration\n",
    "    * 2.1 Dimensionality of the dataset\n",
    "    * 2.2 Top 5 and last 5 records of Data\n",
    "    * 2.3 General Information of the data\n",
    "    * 2.4 Unique Labels of data\n",
    "    * 2.5 Missing values\n",
    "    * 2.6 Duplicate values\n",
    " * 3. Data Cleansing\n",
    "    * 3.1 Removing unnecessary columns\n",
    "    * 3.2 Removing null values\n",
    " * 4. Data Exploartion and Visualisation after cleaning the data\n",
    "    * 4.1 Frequency of Words\n",
    "    * 4.2 Followers Bar Plot\n",
    "    * 4.3 Following Bar Plot\n",
    "    * 4.4 Plotting Against Everyone\n",
    " * 5. Conclusions drawn\n",
    "\n",
    "   \n"
   ]
  },
  {
   "cell_type": "markdown",
   "id": "00457c40",
   "metadata": {},
   "source": [
    "## 1. Importing Necessary Libraries "
   ]
  },
  {
   "cell_type": "code",
   "execution_count": 2,
   "id": "128ef04c",
   "metadata": {},
   "outputs": [],
   "source": [
    "import pandas as pd\n",
    "import numpy as np\n",
    "import matplotlib.pyplot as plt\n",
    "import seaborn as sns"
   ]
  },
  {
   "cell_type": "markdown",
   "id": "1382e09f",
   "metadata": {},
   "source": [
    "# 2. Basic Data Exploration"
   ]
  },
  {
   "cell_type": "code",
   "execution_count": 3,
   "id": "56dfa93e",
   "metadata": {},
   "outputs": [],
   "source": [
    "df = pd.read_csv('ml_git_users.csv')"
   ]
  },
  {
   "cell_type": "markdown",
   "id": "63d4525e",
   "metadata": {},
   "source": [
    "### 2.1 Dimensionality of the dataset"
   ]
  },
  {
   "cell_type": "code",
   "execution_count": 4,
   "id": "f3b6bac5",
   "metadata": {},
   "outputs": [
    {
     "name": "stdout",
     "output_type": "stream",
     "text": [
      "There are 670 rows and 12 columns in the given ML git Users dataset\n"
     ]
    }
   ],
   "source": [
    "rows=df.shape[0]\n",
    "columns=df.shape[1]\n",
    "print(f\"There are {rows} rows and {columns} columns in the given ML git Users dataset\")"
   ]
  },
  {
   "cell_type": "markdown",
   "id": "8dbd7e4c",
   "metadata": {},
   "source": [
    "### 2.2 Top 5 and last 5 records of Data"
   ]
  },
  {
   "cell_type": "code",
   "execution_count": 5,
   "id": "4ff8ce65",
   "metadata": {},
   "outputs": [
    {
     "data": {
      "text/html": [
       "<div>\n",
       "<style scoped>\n",
       "    .dataframe tbody tr th:only-of-type {\n",
       "        vertical-align: middle;\n",
       "    }\n",
       "\n",
       "    .dataframe tbody tr th {\n",
       "        vertical-align: top;\n",
       "    }\n",
       "\n",
       "    .dataframe thead th {\n",
       "        text-align: right;\n",
       "    }\n",
       "</style>\n",
       "<table border=\"1\" class=\"dataframe\">\n",
       "  <thead>\n",
       "    <tr style=\"text-align: right;\">\n",
       "      <th></th>\n",
       "      <th>Unnamed: 0</th>\n",
       "      <th>login</th>\n",
       "      <th>id</th>\n",
       "      <th>url</th>\n",
       "      <th>name</th>\n",
       "      <th>company</th>\n",
       "      <th>blog</th>\n",
       "      <th>location</th>\n",
       "      <th>email</th>\n",
       "      <th>bio</th>\n",
       "      <th>followers</th>\n",
       "      <th>following</th>\n",
       "    </tr>\n",
       "  </thead>\n",
       "  <tbody>\n",
       "    <tr>\n",
       "      <th>0</th>\n",
       "      <td>0</td>\n",
       "      <td>Gift-Ojeabulu</td>\n",
       "      <td>45846624</td>\n",
       "      <td>https://api.github.com/users/Gift-Ojeabulu</td>\n",
       "      <td>GiftOjeabulu</td>\n",
       "      <td>CBB ANALYTICS</td>\n",
       "      <td>NaN</td>\n",
       "      <td>Lagos,Nigeria</td>\n",
       "      <td>NaN</td>\n",
       "      <td>Data Scientist | Machine Learning Engineer</td>\n",
       "      <td>40</td>\n",
       "      <td>16</td>\n",
       "    </tr>\n",
       "    <tr>\n",
       "      <th>1</th>\n",
       "      <td>1</td>\n",
       "      <td>korecodes</td>\n",
       "      <td>15997058</td>\n",
       "      <td>https://api.github.com/users/korecodes</td>\n",
       "      <td>Daniel Apantaku</td>\n",
       "      <td>NaN</td>\n",
       "      <td>NaN</td>\n",
       "      <td>Lagos, Nigeria.</td>\n",
       "      <td>apantakuayo@gmail.com</td>\n",
       "      <td>Learning Machine.</td>\n",
       "      <td>10</td>\n",
       "      <td>58</td>\n",
       "    </tr>\n",
       "    <tr>\n",
       "      <th>2</th>\n",
       "      <td>2</td>\n",
       "      <td>jerryOkafor</td>\n",
       "      <td>12306753</td>\n",
       "      <td>https://api.github.com/users/jerryOkafor</td>\n",
       "      <td>Jerry Hanks Okafor</td>\n",
       "      <td>NaN</td>\n",
       "      <td>jerryokafor.com</td>\n",
       "      <td>Lagos</td>\n",
       "      <td>jerryhanksokafor@gmail.com</td>\n",
       "      <td>Passionate Mobile (Android &amp; iOS) Software Eng...</td>\n",
       "      <td>47</td>\n",
       "      <td>32</td>\n",
       "    </tr>\n",
       "    <tr>\n",
       "      <th>3</th>\n",
       "      <td>3</td>\n",
       "      <td>cydal</td>\n",
       "      <td>11761529</td>\n",
       "      <td>https://api.github.com/users/cydal</td>\n",
       "      <td>Sijuade Oguntayo</td>\n",
       "      <td>NaN</td>\n",
       "      <td>loud.africa</td>\n",
       "      <td>Lagos, Nigeria</td>\n",
       "      <td>cydalsij@outlook.com</td>\n",
       "      <td>Data Scientist / Machine Learning Engineer</td>\n",
       "      <td>16</td>\n",
       "      <td>16</td>\n",
       "    </tr>\n",
       "    <tr>\n",
       "      <th>4</th>\n",
       "      <td>4</td>\n",
       "      <td>adefemi</td>\n",
       "      <td>12401108</td>\n",
       "      <td>https://api.github.com/users/adefemi</td>\n",
       "      <td>Adefemi Oseni</td>\n",
       "      <td>Pangaea</td>\n",
       "      <td>adefemi.github.io</td>\n",
       "      <td>Lagos, Nigeria</td>\n",
       "      <td>adefemigreat1995@gmail.com</td>\n",
       "      <td>Am all about the graphical fun. Games, machine...</td>\n",
       "      <td>45</td>\n",
       "      <td>0</td>\n",
       "    </tr>\n",
       "  </tbody>\n",
       "</table>\n",
       "</div>"
      ],
      "text/plain": [
       "   Unnamed: 0          login        id  \\\n",
       "0           0  Gift-Ojeabulu  45846624   \n",
       "1           1      korecodes  15997058   \n",
       "2           2    jerryOkafor  12306753   \n",
       "3           3          cydal  11761529   \n",
       "4           4        adefemi  12401108   \n",
       "\n",
       "                                          url                name  \\\n",
       "0  https://api.github.com/users/Gift-Ojeabulu        GiftOjeabulu   \n",
       "1      https://api.github.com/users/korecodes     Daniel Apantaku   \n",
       "2    https://api.github.com/users/jerryOkafor  Jerry Hanks Okafor   \n",
       "3          https://api.github.com/users/cydal    Sijuade Oguntayo   \n",
       "4        https://api.github.com/users/adefemi       Adefemi Oseni   \n",
       "\n",
       "         company               blog         location  \\\n",
       "0  CBB ANALYTICS                NaN    Lagos,Nigeria   \n",
       "1            NaN                NaN  Lagos, Nigeria.   \n",
       "2            NaN    jerryokafor.com            Lagos   \n",
       "3            NaN        loud.africa   Lagos, Nigeria   \n",
       "4        Pangaea  adefemi.github.io   Lagos, Nigeria   \n",
       "\n",
       "                        email  \\\n",
       "0                         NaN   \n",
       "1       apantakuayo@gmail.com   \n",
       "2  jerryhanksokafor@gmail.com   \n",
       "3        cydalsij@outlook.com   \n",
       "4  adefemigreat1995@gmail.com   \n",
       "\n",
       "                                                 bio  followers  following  \n",
       "0        Data Scientist | Machine Learning Engineer          40         16  \n",
       "1                                  Learning Machine.         10         58  \n",
       "2  Passionate Mobile (Android & iOS) Software Eng...         47         32  \n",
       "3         Data Scientist / Machine Learning Engineer         16         16  \n",
       "4  Am all about the graphical fun. Games, machine...         45          0  "
      ]
     },
     "execution_count": 5,
     "metadata": {},
     "output_type": "execute_result"
    }
   ],
   "source": [
    "df.head()"
   ]
  },
  {
   "cell_type": "code",
   "execution_count": 6,
   "id": "b9a6f3d2",
   "metadata": {},
   "outputs": [
    {
     "data": {
      "text/html": [
       "<div>\n",
       "<style scoped>\n",
       "    .dataframe tbody tr th:only-of-type {\n",
       "        vertical-align: middle;\n",
       "    }\n",
       "\n",
       "    .dataframe tbody tr th {\n",
       "        vertical-align: top;\n",
       "    }\n",
       "\n",
       "    .dataframe thead th {\n",
       "        text-align: right;\n",
       "    }\n",
       "</style>\n",
       "<table border=\"1\" class=\"dataframe\">\n",
       "  <thead>\n",
       "    <tr style=\"text-align: right;\">\n",
       "      <th></th>\n",
       "      <th>Unnamed: 0</th>\n",
       "      <th>login</th>\n",
       "      <th>id</th>\n",
       "      <th>url</th>\n",
       "      <th>name</th>\n",
       "      <th>company</th>\n",
       "      <th>blog</th>\n",
       "      <th>location</th>\n",
       "      <th>email</th>\n",
       "      <th>bio</th>\n",
       "      <th>followers</th>\n",
       "      <th>following</th>\n",
       "    </tr>\n",
       "  </thead>\n",
       "  <tbody>\n",
       "    <tr>\n",
       "      <th>665</th>\n",
       "      <td>665</td>\n",
       "      <td>AimeM250</td>\n",
       "      <td>81082709</td>\n",
       "      <td>https://api.github.com/users/AimeM250</td>\n",
       "      <td>Aime Munezero</td>\n",
       "      <td>Avent Wave</td>\n",
       "      <td>NaN</td>\n",
       "      <td>Kigali - Rwanda</td>\n",
       "      <td>NaN</td>\n",
       "      <td>A creative, innovative, and vibrant engineer w...</td>\n",
       "      <td>0</td>\n",
       "      <td>2</td>\n",
       "    </tr>\n",
       "    <tr>\n",
       "      <th>666</th>\n",
       "      <td>666</td>\n",
       "      <td>mattrwiyereka</td>\n",
       "      <td>44134912</td>\n",
       "      <td>https://api.github.com/users/mattrwiyereka</td>\n",
       "      <td>Mathieu RWIYEREKA</td>\n",
       "      <td>Trustees Ltd</td>\n",
       "      <td>NaN</td>\n",
       "      <td>Kigali - Rwanda</td>\n",
       "      <td>NaN</td>\n",
       "      <td>Financial Engineer, Passionate of Artificial I...</td>\n",
       "      <td>0</td>\n",
       "      <td>0</td>\n",
       "    </tr>\n",
       "    <tr>\n",
       "      <th>667</th>\n",
       "      <td>667</td>\n",
       "      <td>datagatoni</td>\n",
       "      <td>47833633</td>\n",
       "      <td>https://api.github.com/users/datagatoni</td>\n",
       "      <td>NaN</td>\n",
       "      <td>University of Rwanda</td>\n",
       "      <td>NaN</td>\n",
       "      <td>Kigali, Rwanda</td>\n",
       "      <td>NaN</td>\n",
       "      <td>An urban Planner and real property expert want...</td>\n",
       "      <td>0</td>\n",
       "      <td>0</td>\n",
       "    </tr>\n",
       "    <tr>\n",
       "      <th>668</th>\n",
       "      <td>668</td>\n",
       "      <td>Mwenda01</td>\n",
       "      <td>30906383</td>\n",
       "      <td>https://api.github.com/users/Mwenda01</td>\n",
       "      <td>Lorraine</td>\n",
       "      <td>NaN</td>\n",
       "      <td>https://github.com/lorrainesaunyama</td>\n",
       "      <td>Rwanda</td>\n",
       "      <td>NaN</td>\n",
       "      <td>I am a Data Scientist, Machine learning Specia...</td>\n",
       "      <td>0</td>\n",
       "      <td>1</td>\n",
       "    </tr>\n",
       "    <tr>\n",
       "      <th>669</th>\n",
       "      <td>669</td>\n",
       "      <td>coekoh</td>\n",
       "      <td>73580470</td>\n",
       "      <td>https://api.github.com/users/coekoh</td>\n",
       "      <td>Courage Ekoh</td>\n",
       "      <td>Carnegie Mellon University</td>\n",
       "      <td>NaN</td>\n",
       "      <td>Kigali, Rwanda</td>\n",
       "      <td>NaN</td>\n",
       "      <td>I am a graduate student at Carnegie Mellon Uni...</td>\n",
       "      <td>0</td>\n",
       "      <td>0</td>\n",
       "    </tr>\n",
       "  </tbody>\n",
       "</table>\n",
       "</div>"
      ],
      "text/plain": [
       "     Unnamed: 0          login        id  \\\n",
       "665         665       AimeM250  81082709   \n",
       "666         666  mattrwiyereka  44134912   \n",
       "667         667     datagatoni  47833633   \n",
       "668         668       Mwenda01  30906383   \n",
       "669         669         coekoh  73580470   \n",
       "\n",
       "                                            url               name  \\\n",
       "665       https://api.github.com/users/AimeM250      Aime Munezero   \n",
       "666  https://api.github.com/users/mattrwiyereka  Mathieu RWIYEREKA   \n",
       "667     https://api.github.com/users/datagatoni                NaN   \n",
       "668       https://api.github.com/users/Mwenda01           Lorraine   \n",
       "669         https://api.github.com/users/coekoh       Courage Ekoh   \n",
       "\n",
       "                        company                                 blog  \\\n",
       "665                  Avent Wave                                  NaN   \n",
       "666                Trustees Ltd                                  NaN   \n",
       "667        University of Rwanda                                  NaN   \n",
       "668                         NaN  https://github.com/lorrainesaunyama   \n",
       "669  Carnegie Mellon University                                  NaN   \n",
       "\n",
       "            location email                                                bio  \\\n",
       "665  Kigali - Rwanda   NaN  A creative, innovative, and vibrant engineer w...   \n",
       "666  Kigali - Rwanda   NaN  Financial Engineer, Passionate of Artificial I...   \n",
       "667   Kigali, Rwanda   NaN  An urban Planner and real property expert want...   \n",
       "668           Rwanda   NaN  I am a Data Scientist, Machine learning Specia...   \n",
       "669   Kigali, Rwanda   NaN  I am a graduate student at Carnegie Mellon Uni...   \n",
       "\n",
       "     followers  following  \n",
       "665          0          2  \n",
       "666          0          0  \n",
       "667          0          0  \n",
       "668          0          1  \n",
       "669          0          0  "
      ]
     },
     "execution_count": 6,
     "metadata": {},
     "output_type": "execute_result"
    }
   ],
   "source": [
    "df.tail()"
   ]
  },
  {
   "cell_type": "markdown",
   "id": "b040638d",
   "metadata": {},
   "source": [
    "### 2.3 General Information of the data"
   ]
  },
  {
   "cell_type": "code",
   "execution_count": 7,
   "id": "fae93197",
   "metadata": {},
   "outputs": [
    {
     "name": "stdout",
     "output_type": "stream",
     "text": [
      "<class 'pandas.core.frame.DataFrame'>\n",
      "RangeIndex: 670 entries, 0 to 669\n",
      "Data columns (total 12 columns):\n",
      " #   Column      Non-Null Count  Dtype \n",
      "---  ------      --------------  ----- \n",
      " 0   Unnamed: 0  670 non-null    int64 \n",
      " 1   login       670 non-null    object\n",
      " 2   id          670 non-null    int64 \n",
      " 3   url         670 non-null    object\n",
      " 4   name        634 non-null    object\n",
      " 5   company     275 non-null    object\n",
      " 6   blog        271 non-null    object\n",
      " 7   location    670 non-null    object\n",
      " 8   email       243 non-null    object\n",
      " 9   bio         668 non-null    object\n",
      " 10  followers   670 non-null    int64 \n",
      " 11  following   670 non-null    int64 \n",
      "dtypes: int64(4), object(8)\n",
      "memory usage: 62.9+ KB\n"
     ]
    }
   ],
   "source": [
    "df.info()"
   ]
  },
  {
   "cell_type": "markdown",
   "id": "cf712bf1",
   "metadata": {},
   "source": [
    "### 2.4 Unique Labels of data"
   ]
  },
  {
   "cell_type": "code",
   "execution_count": 8,
   "id": "7e9ea61f",
   "metadata": {},
   "outputs": [
    {
     "data": {
      "text/plain": [
       "array(['CBB ANALYTICS', nan, 'Pangaea', 'Purple Gate Technologies',\n",
       "       'Semicolon Africa', 'HDSC FELLOW HAMOYE', 'University of Lagos',\n",
       "       \"Africa's Talking\", 'Patricia', 'Vetsark', 'Lambda School',\n",
       "       'Kernel-X', 'Self employed', 'Nobus Cloud Computing Services',\n",
       "       'TechVarsity.com.ng', 'TELIOS Support Services',\n",
       "       'TheWay4wardAcademy', '@idaf-ai ', 'Freelancer', 'Flutter NG',\n",
       "       'DataScienceNigeria', 'Data Scientist Foundation Network',\n",
       "       'Bluechip Technologies Limited',\n",
       "       'Kelloggs Nigeria/HOFT Developers',\n",
       "       '@Prunedge-Dev-Team  @zonetechpark', 'ParallelScore',\n",
       "       'Data Scientist / SWE @Retina-AI', 'Obafemi awolowo university',\n",
       "       'Freelance Data Analyst', 'Babban Gona', 'Freeman Lab',\n",
       "       'Federal University of Technology, Akure', 'Comptware Inc.',\n",
       "       '@Tedbree', 'CampusBuy', 'musterdata limted', '115Garage',\n",
       "       'FairMoney ', 'peerlessng',\n",
       "       '@GitStartHQ @senseiadmin @prunedge-dev  @HazonTechnologies   @ekoinnovationhub  @learningdollars  @viisaus',\n",
       "       'Demz analytics institute of technology', 'ehubber.com', 'NIGERIA',\n",
       "       'Ageless physiotherapy clinic', 'Halogen Group',\n",
       "       'PagaTech limited', 'Coronation Group', 'Sportzlite ',\n",
       "       'Roadpreppers Technologies', 'Bluecore Solutions',\n",
       "       'Datawrangling io',\n",
       "       'Freelancer/open to take up opportunities in Data Science',\n",
       "       'Flour Mills of Nigeria', 'A-men Technology', 'Gravitas BPM Ltd',\n",
       "       'Microsoft', 'Data Wrangling', 'Switch Electric & Gas Ltd',\n",
       "       'freelancer', 'Male', 'Stanbic IBTC bank', 'Dansol High School',\n",
       "       'Huawei Technologies', 'Information and Data Analytics foundation',\n",
       "       'Hugo Technologies', 'AXA Mansard', 'Polaris digitech',\n",
       "       'HENRY.ANG', '@ Nigerian Economic Summit Group.', 'DataHack4FI ',\n",
       "       'KPMG', '@ntel', 'DominiCodes', 'Determinas',\n",
       "       'Tridomple Global Technologies Inc.',\n",
       "       'Global Impact Water Innovations Limited',\n",
       "       'United Geophysical Nigeria Limited', 'Photizzo Technologies Ltd',\n",
       "       'FirstBank of Nigeria Limited', 'HamoyeHQ',\n",
       "       'Euglobe Solutions Limited', 'Raze AI and Analytics', 'Lagosbuild',\n",
       "       'Marasoft Coporations', 'Lozenge Consults and Investment Limited',\n",
       "       'Strategic Thinking & Innovative Technology LTD ',\n",
       "       'APM Terminals, Apapa', 'Bitwyse Web Co', 'Energia ltd',\n",
       "       '@team-studentxchange ', 'Helicarrier/Makerloom',\n",
       "       'Searching & Open to Work', 'Valtech Ltd.', 'Open Source', 'Xigma',\n",
       "       'Student', 'Nil', '@DevloopNigeria', 'Noma Technology | CApIC-ACE',\n",
       "       'Metorbolt', 'Etacude', 'AiStrides', 'Omdena', 'Colab Kaduna',\n",
       "       'extrasheet llc', 'Teesoft Innovations Nigeria', 'mDoc',\n",
       "       '@DsC Kwasu', 'C4LEB_media', 'eBayo',\n",
       "       'Chukwuemeka Odumegwu Ojukwu University', 'Remote',\n",
       "       'Student of Computer Science', 'STICO', '@radiantearth', 'Utiva',\n",
       "       'Reboundmedia.com.ng', 'University of Jos',\n",
       "       'Institute of Human Virology Nigeria', 'Horizon IT Services',\n",
       "       'Access Reyal', 'MellowTechnologies', 'Dannyokec-Enterprise',\n",
       "       'Hamoye AI Lab', 'Africa Prudentials Plc | United Bank for Africa',\n",
       "       'Freelance Data Scientist ', 'Data Science Nigeria',\n",
       "       'centre for research, evaluation and resource development',\n",
       "       '@OmdenaAI', 'YouGain Computers', 'Hikmatech ICT Solutions ',\n",
       "       'Olabisi Onabanjo University ', 'Cassandra Eguakun',\n",
       "       'Port Harcourt School of AI', 'CodeDNA', 'FinTech',\n",
       "       'TechPet Global Ltd. ', '@vilshub', 'Red Beryl Media',\n",
       "       'Aerocedi Technologies', 'FUD', 'TeamAweb', 'NGDev', 'Datasphir',\n",
       "       'www.praizemusic.com.ng', 'Harmony Innovation Hub',\n",
       "       '@Grams Technology', 'YMBN Technologies', 'Globacom',\n",
       "       'Trontier Technologies Limited', 'University of Ibadan',\n",
       "       'Federal University of Technology, Minna', 'mykelsoftware',\n",
       "       'A.I Tech', 'presently serving at nHub Nigeria limited', 'andlus',\n",
       "       'Aestos1', 'Smapis School of Coding', 'Shanding', 'non',\n",
       "       'Self-employed', 'Nnamdi Azikiwe University, Awka', 'Stutern',\n",
       "       'University of Uyo', '@nHub', 'Abuja Data School',\n",
       "       'CypherCrescent Nigeria Limited', 'RAIN Nigeria',\n",
       "       'The Federal Polytechnic, Ado-Ekiti',\n",
       "       'West Virginia University,Hustlerscrib, Autosparemall',\n",
       "       'artificialscience hub', 'Self Employed', 'Oparand Ltd.',\n",
       "       '@new-devz  @Impact1000000 @Maxfront-Devs ',\n",
       "       'PSG RESOURCES NIG. LTD', 'BUK', \"Newtonian's Solution\",\n",
       "       'Inlaks Computer Limited',\n",
       "       'Field Technologies and Development Partners',\n",
       "       'African University of Science and Technology',\n",
       "       'Techspecialist Consulting Limited', 'Ronnie Care Foundation',\n",
       "       'CyberSoft Technologies', 'AIMS/AMMI', 'insightiv',\n",
       "       'Tabiri Analytics Inc', 'ZHC', 'AMMI (Google & Facebook)',\n",
       "       'SynBio-Rwanda, CRID', 'RSSLab',\n",
       "       'African Masters in Machine Intelligence-AMMI',\n",
       "       'Carnegie Mellon University Africa', 'Carnegie Mellon University',\n",
       "       'Avent Wave', 'Trustees Ltd', 'University of Rwanda'], dtype=object)"
      ]
     },
     "execution_count": 8,
     "metadata": {},
     "output_type": "execute_result"
    }
   ],
   "source": [
    "df['company'].unique()"
   ]
  },
  {
   "cell_type": "code",
   "execution_count": 9,
   "id": "7ad5ece9",
   "metadata": {},
   "outputs": [
    {
     "data": {
      "text/plain": [
       "array(['Lagos,Nigeria', 'Lagos, Nigeria.', 'Lagos', 'Lagos, Nigeria',\n",
       "       'Nigeria, Lagos', 'Nigeria,Lagos state', ' Lagos, Nigeria',\n",
       "       'Lagos Nigeria', 'Lagos ,NIgeria', 'Ogun, Lagos',\n",
       "       'Block 9 flat 14a, jubilee estate,ikorodu,lagos state / Agbaje, Ibadan',\n",
       "       'Sabo, Yaba, Lagos.', 'Yaba Lagos. Nigeria.', 'Lagos< Nigeria',\n",
       "       'Lagos, Nigeria  ', 'Lagos, Nigeria ', 'lagos', 'Lagos.',\n",
       "       'ajah lagos', 'Lagos State, Nigeria',\n",
       "       '68 Community Road, Akoka, Yaba, Lagos', 'Lagos Nigeria ',\n",
       "       'Lekki Lagos', 'lagos . Nigeria',\n",
       "       'No 3 Nosiru Atuwon St., Ikorodu, Lagos State.', 'Lagos, NG',\n",
       "       'LAGOS, NIGERIA', 'Apapa, Lagos', 'Lagos. Nigeria',\n",
       "       'Lagos/Ogunstate', 'Lagos, Nigeia', 'lekki lagos-Nigeria',\n",
       "       'Yaba, Lagos', 'Lagos State, Nigeria.',\n",
       "       '3, Rasak Tijani Street, Ikotun, Lagos State, Nigeria',\n",
       "       'Lagos, Nigeria. ', 'lagos, Nigeria', 'Nairobi | Lagos',\n",
       "       'lagos Nigeria', 'Lagos nigeria ', 'Nigeria', 'calabar,Nigeria',\n",
       "       'Anambra, Nigeria',\n",
       "       'Shagari Barnawa Kaduna South Kaduna State Nigeria',\n",
       "       'Jos, Nigeria', 'London, England || Nigeria',\n",
       "       'Ogun State, Nigeria.', 'Abeokuta, Nigeria', 'Ile-Ife, Nigeria',\n",
       "       'Abuja, Nigeria', 'Nigeria,West Africa ',\n",
       "       'Uyo, Akwa Ibom State, Nigeria. ', 'Kaduna, Nigeria',\n",
       "       'Akure, Nigeria', 'Akwa Ibom, Nigeria', 'Yenagoa, Nigeria',\n",
       "       'Daura, Nigeria.', 'Nigeria ', 'UYO, AKWAIBOM STATE NIGERIA',\n",
       "       'Port Harcourt, Rivers State , Nigeria', 'Akure,Nigeria ',\n",
       "       'Ibadan, Nigeria', 'Delta State, Nigeria', 'Biu, Nigeria',\n",
       "       'Katsina State, Nigeria',\n",
       "       'Bauchi Road Jos, Plateau State, Nigeria.',\n",
       "       'Abeokuta, Ogun State. Nigeria.', 'Onitsha, Anambra, Nigeria.',\n",
       "       'NIgeria', 'Port Harcourt, Nigeria', 'Abuja Nigeria',\n",
       "       'ile-ife,  osun state, Nigeria', 'Kano, Nigeria',\n",
       "       'Abeokuta, Nigeria.', 'Enugu,Nigeria', 'nigeria',\n",
       "       'Ota, Ogun State, Nigeria', 'Ibbadan, nigeria',\n",
       "       'Minna, Niger State, Nigeria and ',\n",
       "       'Ago Iwoye, Ogun State, Nigeria ', 'Akure, Ondo state, Nigeria.',\n",
       "       'Nigeria, Calabar', 'UCH, IBADAN, OYO STATE, NIGERIA',\n",
       "       'Ilorin, Kwara state, Nigeria', 'Akure, Ondo State Nigeria',\n",
       "       'Jigawa state,Nigeria', 'Abakaliki, Ebonyi State, Nigeria',\n",
       "       'Abuja, Nigeria.', 'Potiskum, Nigeria', 'Katsina, Nigeria',\n",
       "       'FCT, Abuja, Nigeria', 'Bauchi, Bauchi State, Nigeria',\n",
       "       'LG, Nigeria', 'Abuja,Nigeria.', 'Minna, Nigeria', 'Jos, Nigeria.',\n",
       "       'abuja,nigeria', 'Delta State, Nigeria.',\n",
       "       'Ilorin, Kwara State Nigeria.', 'Nigeria South Africa',\n",
       "       'Uyo, Nigeria', 'Port Harcourt. Rivers, Nigeria', 'USA, Nigeria',\n",
       "       'ENUGU NIGERIA', 'NIGERIA ', 'NIGERIA', 'KANO NIGERIA',\n",
       "       'Nigeria. ', 'Wuse, Abuja Nigeria.', 'Abuja, NIgeria',\n",
       "       'Abuja, FCT, Nigeria', 'Nigeria, West Africa',\n",
       "       'Sagamu, Ogun State, Nigeria.', 'Kigali, Rwanda', 'Rwanda/Kigali',\n",
       "       'Rwanda', 'Rwanda - Kigali', 'Rwanda/kigali', 'Kigali/Rwanda',\n",
       "       'KIgali-Rwanda', 'KIGALI/RWANDA', 'Kigali - Rwanda'], dtype=object)"
      ]
     },
     "execution_count": 9,
     "metadata": {},
     "output_type": "execute_result"
    }
   ],
   "source": [
    "df['location'].unique()"
   ]
  },
  {
   "cell_type": "markdown",
   "id": "bbd6e0e8",
   "metadata": {},
   "source": [
    "### 2.5 Missing Values"
   ]
  },
  {
   "cell_type": "code",
   "execution_count": 10,
   "id": "3688ee6a",
   "metadata": {},
   "outputs": [
    {
     "data": {
      "text/plain": [
       "Unnamed: 0      0\n",
       "login           0\n",
       "id              0\n",
       "url             0\n",
       "name           36\n",
       "company       395\n",
       "blog          399\n",
       "location        0\n",
       "email         427\n",
       "bio             2\n",
       "followers       0\n",
       "following       0\n",
       "dtype: int64"
      ]
     },
     "execution_count": 10,
     "metadata": {},
     "output_type": "execute_result"
    }
   ],
   "source": [
    "df.isnull().sum()"
   ]
  },
  {
   "cell_type": "markdown",
   "id": "255fd62f",
   "metadata": {},
   "source": [
    "### 2.6 Duplicated Values"
   ]
  },
  {
   "cell_type": "code",
   "execution_count": 11,
   "id": "641fda40",
   "metadata": {},
   "outputs": [
    {
     "data": {
      "text/plain": [
       "0"
      ]
     },
     "execution_count": 11,
     "metadata": {},
     "output_type": "execute_result"
    }
   ],
   "source": [
    "df.duplicated().sum()"
   ]
  },
  {
   "cell_type": "markdown",
   "id": "ce3abafc",
   "metadata": {},
   "source": [
    "## 3. Data Cleansing"
   ]
  },
  {
   "cell_type": "markdown",
   "id": "bcc1644a",
   "metadata": {},
   "source": [
    "### 3.1 Dropping Unneccesary Columns"
   ]
  },
  {
   "cell_type": "code",
   "execution_count": 12,
   "id": "2c5ac496",
   "metadata": {},
   "outputs": [],
   "source": [
    "df1 = df.drop(['url'], axis=1, inplace=True)\n",
    "df1 = df.drop(['name'], axis=1, inplace=True)\n",
    "df1 = df.drop(['blog'], axis = 1, inplace=True)\n",
    "df1 = df.drop(['email'], axis = 1, inplace=True)"
   ]
  },
  {
   "cell_type": "markdown",
   "id": "4dbbc12c",
   "metadata": {},
   "source": [
    "### 3.2 Data Top 5 Records after removing the columns"
   ]
  },
  {
   "cell_type": "code",
   "execution_count": 13,
   "id": "a59f3c30",
   "metadata": {},
   "outputs": [
    {
     "data": {
      "text/html": [
       "<div>\n",
       "<style scoped>\n",
       "    .dataframe tbody tr th:only-of-type {\n",
       "        vertical-align: middle;\n",
       "    }\n",
       "\n",
       "    .dataframe tbody tr th {\n",
       "        vertical-align: top;\n",
       "    }\n",
       "\n",
       "    .dataframe thead th {\n",
       "        text-align: right;\n",
       "    }\n",
       "</style>\n",
       "<table border=\"1\" class=\"dataframe\">\n",
       "  <thead>\n",
       "    <tr style=\"text-align: right;\">\n",
       "      <th></th>\n",
       "      <th>Unnamed: 0</th>\n",
       "      <th>login</th>\n",
       "      <th>id</th>\n",
       "      <th>company</th>\n",
       "      <th>location</th>\n",
       "      <th>bio</th>\n",
       "      <th>followers</th>\n",
       "      <th>following</th>\n",
       "    </tr>\n",
       "  </thead>\n",
       "  <tbody>\n",
       "    <tr>\n",
       "      <th>0</th>\n",
       "      <td>0</td>\n",
       "      <td>Gift-Ojeabulu</td>\n",
       "      <td>45846624</td>\n",
       "      <td>CBB ANALYTICS</td>\n",
       "      <td>Lagos,Nigeria</td>\n",
       "      <td>Data Scientist | Machine Learning Engineer</td>\n",
       "      <td>40</td>\n",
       "      <td>16</td>\n",
       "    </tr>\n",
       "    <tr>\n",
       "      <th>1</th>\n",
       "      <td>1</td>\n",
       "      <td>korecodes</td>\n",
       "      <td>15997058</td>\n",
       "      <td>NaN</td>\n",
       "      <td>Lagos, Nigeria.</td>\n",
       "      <td>Learning Machine.</td>\n",
       "      <td>10</td>\n",
       "      <td>58</td>\n",
       "    </tr>\n",
       "    <tr>\n",
       "      <th>2</th>\n",
       "      <td>2</td>\n",
       "      <td>jerryOkafor</td>\n",
       "      <td>12306753</td>\n",
       "      <td>NaN</td>\n",
       "      <td>Lagos</td>\n",
       "      <td>Passionate Mobile (Android &amp; iOS) Software Eng...</td>\n",
       "      <td>47</td>\n",
       "      <td>32</td>\n",
       "    </tr>\n",
       "    <tr>\n",
       "      <th>3</th>\n",
       "      <td>3</td>\n",
       "      <td>cydal</td>\n",
       "      <td>11761529</td>\n",
       "      <td>NaN</td>\n",
       "      <td>Lagos, Nigeria</td>\n",
       "      <td>Data Scientist / Machine Learning Engineer</td>\n",
       "      <td>16</td>\n",
       "      <td>16</td>\n",
       "    </tr>\n",
       "    <tr>\n",
       "      <th>4</th>\n",
       "      <td>4</td>\n",
       "      <td>adefemi</td>\n",
       "      <td>12401108</td>\n",
       "      <td>Pangaea</td>\n",
       "      <td>Lagos, Nigeria</td>\n",
       "      <td>Am all about the graphical fun. Games, machine...</td>\n",
       "      <td>45</td>\n",
       "      <td>0</td>\n",
       "    </tr>\n",
       "  </tbody>\n",
       "</table>\n",
       "</div>"
      ],
      "text/plain": [
       "   Unnamed: 0          login        id        company         location  \\\n",
       "0           0  Gift-Ojeabulu  45846624  CBB ANALYTICS    Lagos,Nigeria   \n",
       "1           1      korecodes  15997058            NaN  Lagos, Nigeria.   \n",
       "2           2    jerryOkafor  12306753            NaN            Lagos   \n",
       "3           3          cydal  11761529            NaN   Lagos, Nigeria   \n",
       "4           4        adefemi  12401108        Pangaea   Lagos, Nigeria   \n",
       "\n",
       "                                                 bio  followers  following  \n",
       "0        Data Scientist | Machine Learning Engineer          40         16  \n",
       "1                                  Learning Machine.         10         58  \n",
       "2  Passionate Mobile (Android & iOS) Software Eng...         47         32  \n",
       "3         Data Scientist / Machine Learning Engineer         16         16  \n",
       "4  Am all about the graphical fun. Games, machine...         45          0  "
      ]
     },
     "execution_count": 13,
     "metadata": {},
     "output_type": "execute_result"
    }
   ],
   "source": [
    "df.head()"
   ]
  },
  {
   "cell_type": "markdown",
   "id": "2e43f207",
   "metadata": {},
   "source": [
    "### 3.3 Dropping Null Values"
   ]
  },
  {
   "cell_type": "code",
   "execution_count": 14,
   "id": "4d2f3455",
   "metadata": {},
   "outputs": [
    {
     "data": {
      "text/html": [
       "<div>\n",
       "<style scoped>\n",
       "    .dataframe tbody tr th:only-of-type {\n",
       "        vertical-align: middle;\n",
       "    }\n",
       "\n",
       "    .dataframe tbody tr th {\n",
       "        vertical-align: top;\n",
       "    }\n",
       "\n",
       "    .dataframe thead th {\n",
       "        text-align: right;\n",
       "    }\n",
       "</style>\n",
       "<table border=\"1\" class=\"dataframe\">\n",
       "  <thead>\n",
       "    <tr style=\"text-align: right;\">\n",
       "      <th></th>\n",
       "      <th>Unnamed: 0</th>\n",
       "      <th>login</th>\n",
       "      <th>id</th>\n",
       "      <th>company</th>\n",
       "      <th>location</th>\n",
       "      <th>bio</th>\n",
       "      <th>followers</th>\n",
       "      <th>following</th>\n",
       "    </tr>\n",
       "  </thead>\n",
       "  <tbody>\n",
       "    <tr>\n",
       "      <th>0</th>\n",
       "      <td>0</td>\n",
       "      <td>Gift-Ojeabulu</td>\n",
       "      <td>45846624</td>\n",
       "      <td>CBB ANALYTICS</td>\n",
       "      <td>Lagos,Nigeria</td>\n",
       "      <td>Data Scientist | Machine Learning Engineer</td>\n",
       "      <td>40</td>\n",
       "      <td>16</td>\n",
       "    </tr>\n",
       "    <tr>\n",
       "      <th>4</th>\n",
       "      <td>4</td>\n",
       "      <td>adefemi</td>\n",
       "      <td>12401108</td>\n",
       "      <td>Pangaea</td>\n",
       "      <td>Lagos, Nigeria</td>\n",
       "      <td>Am all about the graphical fun. Games, machine...</td>\n",
       "      <td>45</td>\n",
       "      <td>0</td>\n",
       "    </tr>\n",
       "    <tr>\n",
       "      <th>5</th>\n",
       "      <td>5</td>\n",
       "      <td>Crowntopsss</td>\n",
       "      <td>37702934</td>\n",
       "      <td>Purple Gate Technologies</td>\n",
       "      <td>Lagos</td>\n",
       "      <td>IOS developer | Machine learning Developer\\r\\n</td>\n",
       "      <td>9</td>\n",
       "      <td>18</td>\n",
       "    </tr>\n",
       "    <tr>\n",
       "      <th>7</th>\n",
       "      <td>7</td>\n",
       "      <td>wizardcalidad</td>\n",
       "      <td>31688823</td>\n",
       "      <td>Semicolon Africa</td>\n",
       "      <td>Lagos, Nigeria</td>\n",
       "      <td>Software Engineering, Machine Learning, Artifi...</td>\n",
       "      <td>20</td>\n",
       "      <td>32</td>\n",
       "    </tr>\n",
       "    <tr>\n",
       "      <th>8</th>\n",
       "      <td>8</td>\n",
       "      <td>ProsperChuks</td>\n",
       "      <td>28939122</td>\n",
       "      <td>HDSC FELLOW HAMOYE</td>\n",
       "      <td>Lagos, Nigeria</td>\n",
       "      <td>Software Engineer/Data Scientist/Machine Learn...</td>\n",
       "      <td>13</td>\n",
       "      <td>13</td>\n",
       "    </tr>\n",
       "    <tr>\n",
       "      <th>...</th>\n",
       "      <td>...</td>\n",
       "      <td>...</td>\n",
       "      <td>...</td>\n",
       "      <td>...</td>\n",
       "      <td>...</td>\n",
       "      <td>...</td>\n",
       "      <td>...</td>\n",
       "      <td>...</td>\n",
       "    </tr>\n",
       "    <tr>\n",
       "      <th>663</th>\n",
       "      <td>663</td>\n",
       "      <td>ekohgenius</td>\n",
       "      <td>54238862</td>\n",
       "      <td>Carnegie Mellon University</td>\n",
       "      <td>Kigali, Rwanda</td>\n",
       "      <td>Currently pursuing a Masters degree in Applied...</td>\n",
       "      <td>0</td>\n",
       "      <td>0</td>\n",
       "    </tr>\n",
       "    <tr>\n",
       "      <th>665</th>\n",
       "      <td>665</td>\n",
       "      <td>AimeM250</td>\n",
       "      <td>81082709</td>\n",
       "      <td>Avent Wave</td>\n",
       "      <td>Kigali - Rwanda</td>\n",
       "      <td>A creative, innovative, and vibrant engineer w...</td>\n",
       "      <td>0</td>\n",
       "      <td>2</td>\n",
       "    </tr>\n",
       "    <tr>\n",
       "      <th>666</th>\n",
       "      <td>666</td>\n",
       "      <td>mattrwiyereka</td>\n",
       "      <td>44134912</td>\n",
       "      <td>Trustees Ltd</td>\n",
       "      <td>Kigali - Rwanda</td>\n",
       "      <td>Financial Engineer, Passionate of Artificial I...</td>\n",
       "      <td>0</td>\n",
       "      <td>0</td>\n",
       "    </tr>\n",
       "    <tr>\n",
       "      <th>667</th>\n",
       "      <td>667</td>\n",
       "      <td>datagatoni</td>\n",
       "      <td>47833633</td>\n",
       "      <td>University of Rwanda</td>\n",
       "      <td>Kigali, Rwanda</td>\n",
       "      <td>An urban Planner and real property expert want...</td>\n",
       "      <td>0</td>\n",
       "      <td>0</td>\n",
       "    </tr>\n",
       "    <tr>\n",
       "      <th>669</th>\n",
       "      <td>669</td>\n",
       "      <td>coekoh</td>\n",
       "      <td>73580470</td>\n",
       "      <td>Carnegie Mellon University</td>\n",
       "      <td>Kigali, Rwanda</td>\n",
       "      <td>I am a graduate student at Carnegie Mellon Uni...</td>\n",
       "      <td>0</td>\n",
       "      <td>0</td>\n",
       "    </tr>\n",
       "  </tbody>\n",
       "</table>\n",
       "<p>275 rows × 8 columns</p>\n",
       "</div>"
      ],
      "text/plain": [
       "     Unnamed: 0          login        id                     company  \\\n",
       "0             0  Gift-Ojeabulu  45846624               CBB ANALYTICS   \n",
       "4             4        adefemi  12401108                     Pangaea   \n",
       "5             5    Crowntopsss  37702934    Purple Gate Technologies   \n",
       "7             7  wizardcalidad  31688823            Semicolon Africa   \n",
       "8             8   ProsperChuks  28939122          HDSC FELLOW HAMOYE   \n",
       "..          ...            ...       ...                         ...   \n",
       "663         663     ekohgenius  54238862  Carnegie Mellon University   \n",
       "665         665       AimeM250  81082709                  Avent Wave   \n",
       "666         666  mattrwiyereka  44134912                Trustees Ltd   \n",
       "667         667     datagatoni  47833633        University of Rwanda   \n",
       "669         669         coekoh  73580470  Carnegie Mellon University   \n",
       "\n",
       "            location                                                bio  \\\n",
       "0      Lagos,Nigeria        Data Scientist | Machine Learning Engineer    \n",
       "4     Lagos, Nigeria  Am all about the graphical fun. Games, machine...   \n",
       "5              Lagos     IOS developer | Machine learning Developer\\r\\n   \n",
       "7     Lagos, Nigeria  Software Engineering, Machine Learning, Artifi...   \n",
       "8     Lagos, Nigeria  Software Engineer/Data Scientist/Machine Learn...   \n",
       "..               ...                                                ...   \n",
       "663   Kigali, Rwanda  Currently pursuing a Masters degree in Applied...   \n",
       "665  Kigali - Rwanda  A creative, innovative, and vibrant engineer w...   \n",
       "666  Kigali - Rwanda  Financial Engineer, Passionate of Artificial I...   \n",
       "667   Kigali, Rwanda  An urban Planner and real property expert want...   \n",
       "669   Kigali, Rwanda  I am a graduate student at Carnegie Mellon Uni...   \n",
       "\n",
       "     followers  following  \n",
       "0           40         16  \n",
       "4           45          0  \n",
       "5            9         18  \n",
       "7           20         32  \n",
       "8           13         13  \n",
       "..         ...        ...  \n",
       "663          0          0  \n",
       "665          0          2  \n",
       "666          0          0  \n",
       "667          0          0  \n",
       "669          0          0  \n",
       "\n",
       "[275 rows x 8 columns]"
      ]
     },
     "execution_count": 14,
     "metadata": {},
     "output_type": "execute_result"
    }
   ],
   "source": [
    "df.dropna()"
   ]
  },
  {
   "cell_type": "markdown",
   "id": "3f7569bd",
   "metadata": {},
   "source": [
    "## 4. Visualization of Data\n",
    "\n",
    "### 4.1 Frequency of Words"
   ]
  },
  {
   "cell_type": "code",
   "execution_count": 15,
   "id": "2c3ea495",
   "metadata": {},
   "outputs": [
    {
     "data": {
      "text/plain": [
       "Nigeria          489\n",
       "Lagos,           275\n",
       "Lagos             77\n",
       "Nigeria.          50\n",
       "Lagos,Nigeria     24\n",
       "Rwanda            20\n",
       "Abuja,            18\n",
       "State,            18\n",
       "Kigali,           11\n",
       "NIGERIA            8\n",
       "lagos              7\n",
       "nigeria            6\n",
       "Port               6\n",
       "Ibadan,            6\n",
       "Lagos.             6\n",
       "Jos,               5\n",
       "Ogun               5\n",
       "Abuja              5\n",
       "Harcourt,          5\n",
       "Nigeria,           4\n",
       "dtype: int64"
      ]
     },
     "execution_count": 15,
     "metadata": {},
     "output_type": "execute_result"
    }
   ],
   "source": [
    "frequency_of_words = pd.Series(' '.join(df[\"location\"]).split()).value_counts()[:20]\n",
    "frequency_of_words"
   ]
  },
  {
   "cell_type": "markdown",
   "id": "348cc0f1",
   "metadata": {},
   "source": [
    "### 4.2 Followers Bar Plot"
   ]
  },
  {
   "cell_type": "code",
   "execution_count": 16,
   "id": "ed772e0e",
   "metadata": {},
   "outputs": [
    {
     "data": {
      "text/plain": [
       "<AxesSubplot:title={'center':'Followers'}>"
      ]
     },
     "execution_count": 16,
     "metadata": {},
     "output_type": "execute_result"
    },
    {
     "data": {
      "image/png": "[encoded data removed]",
      "text/plain": [
       "<Figure size 1440x720 with 1 Axes>"
      ]
     },
     "metadata": {
      "needs_background": "light"
     },
     "output_type": "display_data"
    }
   ],
   "source": [
    "plt.figure(figsize=(20,10))\n",
    "df['followers'].value_counts().plot.bar(title='Followers',color='lightblue')"
   ]
  },
  {
   "cell_type": "markdown",
   "id": "9dc63ae9",
   "metadata": {},
   "source": [
    "### 4.3 Following Bar Plot"
   ]
  },
  {
   "cell_type": "code",
   "execution_count": 18,
   "id": "8a9391f2",
   "metadata": {},
   "outputs": [
    {
     "data": {
      "text/plain": [
       "<AxesSubplot:title={'center':'Following'}>"
      ]
     },
     "execution_count": 18,
     "metadata": {},
     "output_type": "execute_result"
    },
    {
     "data": {
      "image/png": "[encoded data removed]",
      "text/plain": [
       "<Figure size 1440x720 with 1 Axes>"
      ]
     },
     "metadata": {
      "needs_background": "light"
     },
     "output_type": "display_data"
    }
   ],
   "source": [
    "plt.figure(figsize=(20,10))\n",
    "df['following'].value_counts().plot.bar(title='Following',color='lightblue')"
   ]
  },
  {
   "cell_type": "markdown",
   "id": "3d96796d",
   "metadata": {},
   "source": [
    "### 4.4 Plotting Against Everyone"
   ]
  },
  {
   "cell_type": "code",
   "execution_count": 25,
   "id": "afb277d3",
   "metadata": {},
   "outputs": [
    {
     "data": {
      "text/plain": [
       "<seaborn.axisgrid.PairGrid at 0x15c33b8b0>"
      ]
     },
     "execution_count": 25,
     "metadata": {},
     "output_type": "execute_result"
    },
    {
     "data": {
      "image/png": "[encoded data removed]",
      "text/plain": [
       "<Figure size 720x720 with 20 Axes>"
      ]
     },
     "metadata": {
      "needs_background": "light"
     },
     "output_type": "display_data"
    }
   ],
   "source": [
    "sns.pairplot(df)"
   ]
  },
  {
   "cell_type": "markdown",
   "id": "ff103a7e",
   "metadata": {},
   "source": [
    "# 5. Conclusions Drawn\n",
    "\n",
    "* Most of the Machine Learning Learners and Professionals are from Nigria.\n",
    "\n",
    "* Most of them are following no one as shown in the bar graph above.\n",
    "\n",
    "* Very less people have huge followers.\n",
    "\n",
    "* Maximum of them are having zero followers.\n",
    "\n",
    "* There are many ML users from Nigeria, it shows that Nigerians are more interested in ML."
   ]
  },
  {
   "cell_type": "code",
   "execution_count": null,
   "id": "cfdfe2ec",
   "metadata": {},
   "outputs": [],
   "source": []
  }
 ],
 "metadata": {
  "kernelspec": {
   "display_name": "Python 3 (ipykernel)",
   "language": "python",
   "name": "python3"
  },
  "language_info": {
   "codemirror_mode": {
    "name": "ipython",
    "version": 3
   },
   "file_extension": ".py",
   "mimetype": "text/x-python",
   "name": "python",
   "nbconvert_exporter": "python",
   "pygments_lexer": "ipython3",
   "version": "3.9.13"
  }
 },
 "nbformat": 4,
 "nbformat_minor": 5
}
