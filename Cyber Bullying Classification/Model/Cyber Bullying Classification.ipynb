{
 "cells": [
  {
   "cell_type": "code",
   "execution_count": 1,
   "id": "d797539d",
   "metadata": {},
   "outputs": [],
   "source": [
    "import numpy as np # linear algebra\n",
    "import pandas as pd # data processing, CSV file I/O (e.g. pd.read_csv)\n",
    "import re\n",
    "import string\n",
    "import nltk\n",
    "from nltk.corpus import stopwords\n",
    "from nltk.stem import WordNetLemmatizer\n",
    "\n",
    "import matplotlib.pyplot as plt\n",
    "import seaborn as sns\n",
    "\n",
    "from sklearn.preprocessing import LabelEncoder\n",
    "from sklearn.model_selection import train_test_split\n",
    "\n",
    "from sklearn.feature_extraction.text import CountVectorizer\n",
    "from sklearn.feature_extraction.text import TfidfVectorizer\n",
    "\n",
    "from sklearn.naive_bayes import MultinomialNB\n",
    "from sklearn.tree import DecisionTreeClassifier\n",
    "from sklearn.ensemble import RandomForestClassifier\n",
    "\n",
    "from sklearn.metrics import confusion_matrix\n",
    "from sklearn.metrics import accuracy_score"
   ]
  },
  {
   "cell_type": "code",
   "execution_count": 2,
   "id": "fee3374d",
   "metadata": {},
   "outputs": [],
   "source": [
    "df = pd.read_csv(\"cyberbullying_tweets.csv\")"
   ]
  },
  {
   "cell_type": "code",
   "execution_count": 3,
   "id": "fe958fc6",
   "metadata": {},
   "outputs": [
    {
     "name": "stdout",
     "output_type": "stream",
     "text": [
      "<class 'pandas.core.frame.DataFrame'>\n",
      "RangeIndex: 47692 entries, 0 to 47691\n",
      "Data columns (total 2 columns):\n",
      " #   Column              Non-Null Count  Dtype \n",
      "---  ------              --------------  ----- \n",
      " 0   tweet_text          47692 non-null  object\n",
      " 1   cyberbullying_type  47692 non-null  object\n",
      "dtypes: object(2)\n",
      "memory usage: 745.3+ KB\n"
     ]
    }
   ],
   "source": [
    "df.info()"
   ]
  },
  {
   "cell_type": "code",
   "execution_count": 4,
   "id": "b5c5e7a5",
   "metadata": {},
   "outputs": [
    {
     "name": "stderr",
     "output_type": "stream",
     "text": [
      "/opt/homebrew/Caskroom/miniforge/base/lib/python3.9/site-packages/seaborn/_decorators.py:36: FutureWarning: Pass the following variables as keyword args: x, y. From version 0.12, the only valid positional argument will be `data`, and passing other arguments without an explicit keyword will result in an error or misinterpretation.\n",
      "  warnings.warn(\n"
     ]
    },
    {
     "data": {
      "text/plain": [
       "<AxesSubplot:ylabel='cyberbullying_type'>"
      ]
     },
     "execution_count": 4,
     "metadata": {},
     "output_type": "execute_result"
    },
    {
     "data": {
      "image/png": "[encoded data removed]",
      "text/plain": [
       "<Figure size 864x288 with 1 Axes>"
      ]
     },
     "metadata": {
      "needs_background": "light"
     },
     "output_type": "display_data"
    }
   ],
   "source": [
    "plt.figure(figsize=(12,4))\n",
    "sns.barplot(df['cyberbullying_type'].value_counts().index, df['cyberbullying_type'].value_counts())"
   ]
  },
  {
   "cell_type": "markdown",
   "id": "a8bb6c7e",
   "metadata": {},
   "source": [
    "## Observation: All the Data are balanced in our Dataset."
   ]
  },
  {
   "cell_type": "markdown",
   "id": "01595f38",
   "metadata": {},
   "source": [
    "## Tech Preprocessing\n",
    "\n",
    "By looking into data, one can say it contains urls, punctuations, special characters and emojis. In text preprocessing, we will take care of these elements."
   ]
  },
  {
   "cell_type": "code",
   "execution_count": 6,
   "id": "8c9392e1",
   "metadata": {},
   "outputs": [
    {
     "name": "stderr",
     "output_type": "stream",
     "text": [
      "[nltk_data] Downloading package stopwords to\n",
      "[nltk_data]     /Users/avikmukherjee/nltk_data...\n",
      "[nltk_data]   Unzipping corpora/stopwords.zip.\n"
     ]
    },
    {
     "data": {
      "text/plain": [
       "True"
      ]
     },
     "execution_count": 6,
     "metadata": {},
     "output_type": "execute_result"
    }
   ],
   "source": [
    "nltk.download('stopwords')"
   ]
  },
  {
   "cell_type": "code",
   "execution_count": 7,
   "id": "bb67f6e5",
   "metadata": {},
   "outputs": [],
   "source": [
    "def remove_urls(text):\n",
    "    url_pattern = re.compile(r'https?://\\S+|www\\.\\S+')\n",
    "    return url_pattern.sub(r'', text)\n",
    "\n",
    "def remove_emoji(string):\n",
    "    emoji_pattern = re.compile(\"[\"\n",
    "                           u\"\\U0001F600-\\U0001F64F\"  # emoticons\n",
    "                           u\"\\U0001F300-\\U0001F5FF\"  # symbols & pictographs\n",
    "                           u\"\\U0001F680-\\U0001F6FF\"  # transport & map symbols\n",
    "                           u\"\\U0001F1E0-\\U0001F1FF\"  # flags (iOS)\n",
    "                           u\"\\U00002702-\\U000027B0\"\n",
    "                           u\"\\U000024C2-\\U0001F251\"\n",
    "                           \"]+\", flags=re.UNICODE)\n",
    "    return emoji_pattern.sub(r'', string)\n",
    "\n",
    "lemmatizer = WordNetLemmatizer()\n",
    "def lemmatize_word(text):\n",
    "    return \" \".join(lemmatizer.lemmatize(word) for word in str(text).split())\n",
    "\n",
    "stopword = stopwords.words('english')\n",
    "def remove_stopwords(text):\n",
    "    return \" \".join([word for word in str(text).split() if word not in stopword])\n",
    "    \n",
    "def preprocessing(df, col):\n",
    "    df['lower'] = df[col].str.lower()\n",
    "    df['wo_url'] = df['lower'].apply(lambda text: remove_urls(text))\n",
    "    df['emojis'] = df['wo_url'].apply(lambda text: remove_emoji(text))\n",
    "    df['wo_punc'] = df['emojis'].apply(lambda text: re.sub('[^a-zA-Z0-9]', ' ', text))\n",
    "    df['wo_stopword'] = df['wo_punc'].apply(lambda text: remove_stopwords(text))\n",
    "    df['lemmatized'] = df['wo_stopword'].apply(lambda text: lemmatize_word(text))\n",
    "    df.drop(['lower', 'wo_url', 'emojis', 'wo_punc', 'wo_stopword', 'tweet_text'], axis=1, inplace=True)\n",
    "    return df\n",
    "    "
   ]
  },
  {
   "cell_type": "code",
   "execution_count": 8,
   "id": "2800479a",
   "metadata": {},
   "outputs": [
    {
     "data": {
      "text/html": [
       "<div>\n",
       "<style scoped>\n",
       "    .dataframe tbody tr th:only-of-type {\n",
       "        vertical-align: middle;\n",
       "    }\n",
       "\n",
       "    .dataframe tbody tr th {\n",
       "        vertical-align: top;\n",
       "    }\n",
       "\n",
       "    .dataframe thead th {\n",
       "        text-align: right;\n",
       "    }\n",
       "</style>\n",
       "<table border=\"1\" class=\"dataframe\">\n",
       "  <thead>\n",
       "    <tr style=\"text-align: right;\">\n",
       "      <th></th>\n",
       "      <th>tweet_text</th>\n",
       "      <th>cyberbullying_type</th>\n",
       "    </tr>\n",
       "  </thead>\n",
       "  <tbody>\n",
       "    <tr>\n",
       "      <th>0</th>\n",
       "      <td>In other words #katandandre, your food was cra...</td>\n",
       "      <td>3</td>\n",
       "    </tr>\n",
       "    <tr>\n",
       "      <th>1</th>\n",
       "      <td>Why is #aussietv so white? #MKR #theblock #ImA...</td>\n",
       "      <td>3</td>\n",
       "    </tr>\n",
       "    <tr>\n",
       "      <th>2</th>\n",
       "      <td>@XochitlSuckkks a classy whore? Or more red ve...</td>\n",
       "      <td>3</td>\n",
       "    </tr>\n",
       "    <tr>\n",
       "      <th>3</th>\n",
       "      <td>@Jason_Gio meh. :P  thanks for the heads up, b...</td>\n",
       "      <td>3</td>\n",
       "    </tr>\n",
       "    <tr>\n",
       "      <th>4</th>\n",
       "      <td>@RudhoeEnglish This is an ISIS account pretend...</td>\n",
       "      <td>3</td>\n",
       "    </tr>\n",
       "  </tbody>\n",
       "</table>\n",
       "</div>"
      ],
      "text/plain": [
       "                                          tweet_text  cyberbullying_type\n",
       "0  In other words #katandandre, your food was cra...                   3\n",
       "1  Why is #aussietv so white? #MKR #theblock #ImA...                   3\n",
       "2  @XochitlSuckkks a classy whore? Or more red ve...                   3\n",
       "3  @Jason_Gio meh. :P  thanks for the heads up, b...                   3\n",
       "4  @RudhoeEnglish This is an ISIS account pretend...                   3"
      ]
     },
     "execution_count": 8,
     "metadata": {},
     "output_type": "execute_result"
    }
   ],
   "source": [
    "le = LabelEncoder()\n",
    "df['cyberbullying_type'] = le.fit_transform(df['cyberbullying_type'])\n",
    "df.head()"
   ]
  },
  {
   "cell_type": "code",
   "execution_count": 9,
   "id": "bc889442",
   "metadata": {},
   "outputs": [
    {
     "name": "stdout",
     "output_type": "stream",
     "text": [
      "X shape: (47692, 1) \n",
      "y shape: (47692,)\n"
     ]
    }
   ],
   "source": [
    "X = df.drop('cyberbullying_type', axis=1)\n",
    "y = df['cyberbullying_type']\n",
    "print(\"X shape: {} \\ny shape: {}\".format(X.shape, y.shape))"
   ]
  },
  {
   "cell_type": "code",
   "execution_count": 10,
   "id": "e366afcb",
   "metadata": {},
   "outputs": [
    {
     "name": "stdout",
     "output_type": "stream",
     "text": [
      "train_X shape: (38153, 1) train_y shape: (38153,)\n",
      "test_X shape : (9539, 1) test_y shape: (9539,)\n"
     ]
    }
   ],
   "source": [
    "train_X, test_X, train_y, test_y = train_test_split(X, y, test_size=0.2, random_state=45, stratify=y)\n",
    "\n",
    "print(\"train_X shape: {} train_y shape: {}\".format(train_X.shape, train_y.shape))\n",
    "print(\"test_X shape : {} test_y shape: {}\".format(test_X.shape, test_y.shape))"
   ]
  },
  {
   "cell_type": "code",
   "execution_count": 11,
   "id": "4e7aaf64",
   "metadata": {},
   "outputs": [],
   "source": [
    "train_X = preprocessing(train_X, 'tweet_text')\n",
    "test_X = preprocessing(test_X, 'tweet_text')"
   ]
  },
  {
   "cell_type": "code",
   "execution_count": 12,
   "id": "a6fa84e9",
   "metadata": {},
   "outputs": [],
   "source": [
    "bow = CountVectorizer(max_features=5000)\n",
    "train_mat_bow = bow.fit_transform(train_X['lemmatized']).toarray()\n",
    "test_mat_bow = bow.transform(test_X['lemmatized']).toarray()"
   ]
  },
  {
   "cell_type": "markdown",
   "id": "63809a6b",
   "metadata": {},
   "source": [
    "## Model Training"
   ]
  },
  {
   "cell_type": "code",
   "execution_count": 13,
   "id": "11ff61fe",
   "metadata": {},
   "outputs": [
    {
     "data": {
      "text/html": [
       "<div>\n",
       "<style scoped>\n",
       "    .dataframe tbody tr th:only-of-type {\n",
       "        vertical-align: middle;\n",
       "    }\n",
       "\n",
       "    .dataframe tbody tr th {\n",
       "        vertical-align: top;\n",
       "    }\n",
       "\n",
       "    .dataframe thead th {\n",
       "        text-align: right;\n",
       "    }\n",
       "</style>\n",
       "<table border=\"1\" class=\"dataframe\">\n",
       "  <thead>\n",
       "    <tr style=\"text-align: right;\">\n",
       "      <th></th>\n",
       "      <th>Models</th>\n",
       "      <th>Accuracy Scores</th>\n",
       "    </tr>\n",
       "  </thead>\n",
       "  <tbody>\n",
       "    <tr>\n",
       "      <th>2</th>\n",
       "      <td>Random Forest</td>\n",
       "      <td>0.825139</td>\n",
       "    </tr>\n",
       "    <tr>\n",
       "      <th>1</th>\n",
       "      <td>Decision Tree</td>\n",
       "      <td>0.800084</td>\n",
       "    </tr>\n",
       "    <tr>\n",
       "      <th>0</th>\n",
       "      <td>Naive Bayes</td>\n",
       "      <td>0.790963</td>\n",
       "    </tr>\n",
       "  </tbody>\n",
       "</table>\n",
       "</div>"
      ],
      "text/plain": [
       "          Models  Accuracy Scores\n",
       "2  Random Forest         0.825139\n",
       "1  Decision Tree         0.800084\n",
       "0    Naive Bayes         0.790963"
      ]
     },
     "execution_count": 13,
     "metadata": {},
     "output_type": "execute_result"
    }
   ],
   "source": [
    "nb_bow = MultinomialNB()\n",
    "dt_bow = DecisionTreeClassifier(random_state=42)\n",
    "rf_bow = RandomForestClassifier(random_state=42)\n",
    "\n",
    "clfs = {\n",
    "    \"Naive Bayes\": nb_bow,\n",
    "    \"Decision Tree\": dt_bow,\n",
    "    \"Random Forest\": rf_bow\n",
    "}\n",
    "\n",
    "def fit_model(clf,x_train,y_train,x_test, y_test):\n",
    "    clf.fit(x_train,y_train)\n",
    "    y_pred = clf.predict(x_test)\n",
    "    accuracy = accuracy_score(y_pred, y_test)\n",
    "    return accuracy\n",
    "\n",
    "accuracy = []\n",
    "\n",
    "for name,clf in clfs.items():\n",
    "    curr_acc = fit_model(clf,train_mat_bow,train_y,test_mat_bow,test_y)\n",
    "    accuracy.append(curr_acc)\n",
    "    \n",
    "models_df = pd.DataFrame({\"Models\":clfs.keys(),\"Accuracy Scores\":accuracy}).sort_values('Accuracy Scores',ascending=False)\n",
    "models_df"
   ]
  },
  {
   "cell_type": "markdown",
   "id": "314bbe9e",
   "metadata": {},
   "source": [
    "# Conclusions Drawn:\n",
    "\n",
    "* Random Forest is the best Model for our Dataset.\n",
    "\n",
    "* It is having the accuracy score of 0.825139."
   ]
  },
  {
   "cell_type": "code",
   "execution_count": null,
   "id": "f4e49af8",
   "metadata": {},
   "outputs": [],
   "source": []
  }
 ],
 "metadata": {
  "kernelspec": {
   "display_name": "Python 3 (ipykernel)",
   "language": "python",
   "name": "python3"
  },
  "language_info": {
   "codemirror_mode": {
    "name": "ipython",
    "version": 3
   },
   "file_extension": ".py",
   "mimetype": "text/x-python",
   "name": "python",
   "nbconvert_exporter": "python",
   "pygments_lexer": "ipython3",
   "version": "3.9.13"
  }
 },
 "nbformat": 4,
 "nbformat_minor": 5
}
